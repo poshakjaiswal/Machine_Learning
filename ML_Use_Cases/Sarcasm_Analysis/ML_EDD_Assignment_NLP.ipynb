{
 "cells": [
  {
   "cell_type": "code",
   "execution_count": 1,
   "metadata": {},
   "outputs": [],
   "source": [
    "import pandas as pd, numpy as np, re, time\n",
    "from nltk.stem.porter import PorterStemmer"
   ]
  },
  {
   "cell_type": "code",
   "execution_count": 2,
   "metadata": {},
   "outputs": [],
   "source": [
    "from sklearn.model_selection import train_test_split\n",
    "from sklearn.metrics import confusion_matrix\n",
    "from sklearn.svm import LinearSVC\n",
    "from sklearn.model_selection import cross_val_score\n",
    "from sklearn.naive_bayes import GaussianNB\n",
    "from sklearn.linear_model import LogisticRegression\n",
    "from sklearn.ensemble import RandomForestClassifier"
   ]
  },
  {
   "cell_type": "code",
   "execution_count": 5,
   "metadata": {},
   "outputs": [],
   "source": [
    "data = pd.read_csv('Dataset/Train.csv')"
   ]
  },
  {
   "cell_type": "code",
   "execution_count": 7,
   "metadata": {},
   "outputs": [
    {
     "data": {
      "text/html": [
       "<div>\n",
       "<style scoped>\n",
       "    .dataframe tbody tr th:only-of-type {\n",
       "        vertical-align: middle;\n",
       "    }\n",
       "\n",
       "    .dataframe tbody tr th {\n",
       "        vertical-align: top;\n",
       "    }\n",
       "\n",
       "    .dataframe thead th {\n",
       "        text-align: right;\n",
       "    }\n",
       "</style>\n",
       "<table border=\"1\" class=\"dataframe\">\n",
       "  <thead>\n",
       "    <tr style=\"text-align: right;\">\n",
       "      <th></th>\n",
       "      <th>ID</th>\n",
       "      <th>comment</th>\n",
       "      <th>date</th>\n",
       "      <th>down</th>\n",
       "      <th>parent_comment</th>\n",
       "      <th>score</th>\n",
       "      <th>top</th>\n",
       "      <th>topic</th>\n",
       "      <th>user</th>\n",
       "      <th>label</th>\n",
       "    </tr>\n",
       "  </thead>\n",
       "  <tbody>\n",
       "    <tr>\n",
       "      <td>0</td>\n",
       "      <td>uid_590555</td>\n",
       "      <td>Well, let's be honest here, they don't actuall...</td>\n",
       "      <td>2015-04</td>\n",
       "      <td>0</td>\n",
       "      <td>They should shut the fuck up and let the commu...</td>\n",
       "      <td>2</td>\n",
       "      <td>2</td>\n",
       "      <td>starcitizen</td>\n",
       "      <td>Combat_Wombatz</td>\n",
       "      <td>0</td>\n",
       "    </tr>\n",
       "    <tr>\n",
       "      <td>1</td>\n",
       "      <td>uid_671762</td>\n",
       "      <td>Well, I didn't need evidence to believe in com...</td>\n",
       "      <td>2016-12</td>\n",
       "      <td>-1</td>\n",
       "      <td>You need evidence to kill people? I thought we...</td>\n",
       "      <td>6</td>\n",
       "      <td>-1</td>\n",
       "      <td>EnoughCommieSpam</td>\n",
       "      <td>starkadd</td>\n",
       "      <td>1</td>\n",
       "    </tr>\n",
       "    <tr>\n",
       "      <td>2</td>\n",
       "      <td>uid_519689</td>\n",
       "      <td>Who does an \"official promo\" in 360p?</td>\n",
       "      <td>2013-11</td>\n",
       "      <td>0</td>\n",
       "      <td>2014 BMW S1000R: Official Promo</td>\n",
       "      <td>3</td>\n",
       "      <td>3</td>\n",
       "      <td>motorcycles</td>\n",
       "      <td>phybere</td>\n",
       "      <td>0</td>\n",
       "    </tr>\n",
       "    <tr>\n",
       "      <td>3</td>\n",
       "      <td>uid_788362</td>\n",
       "      <td>Grotto koth was the best</td>\n",
       "      <td>2015-09</td>\n",
       "      <td>0</td>\n",
       "      <td>Not really that memorable lol if you want memo...</td>\n",
       "      <td>2</td>\n",
       "      <td>2</td>\n",
       "      <td>hcfactions</td>\n",
       "      <td>m0xyMC</td>\n",
       "      <td>1</td>\n",
       "    </tr>\n",
       "    <tr>\n",
       "      <td>4</td>\n",
       "      <td>uid_299252</td>\n",
       "      <td>Neal's back baby</td>\n",
       "      <td>2015-11</td>\n",
       "      <td>0</td>\n",
       "      <td>James Neal hit on Zach Parise</td>\n",
       "      <td>-5</td>\n",
       "      <td>-5</td>\n",
       "      <td>hockey</td>\n",
       "      <td>Somuch101</td>\n",
       "      <td>1</td>\n",
       "    </tr>\n",
       "    <tr>\n",
       "      <td>...</td>\n",
       "      <td>...</td>\n",
       "      <td>...</td>\n",
       "      <td>...</td>\n",
       "      <td>...</td>\n",
       "      <td>...</td>\n",
       "      <td>...</td>\n",
       "      <td>...</td>\n",
       "      <td>...</td>\n",
       "      <td>...</td>\n",
       "      <td>...</td>\n",
       "    </tr>\n",
       "    <tr>\n",
       "      <td>14995</td>\n",
       "      <td>uid_845344</td>\n",
       "      <td>Well with a name like El Cubano I'm surprised ...</td>\n",
       "      <td>2015-01</td>\n",
       "      <td>0</td>\n",
       "      <td>There's two things you don't do in Florida. - ...</td>\n",
       "      <td>18</td>\n",
       "      <td>18</td>\n",
       "      <td>hockey</td>\n",
       "      <td>shutupisaac</td>\n",
       "      <td>0</td>\n",
       "    </tr>\n",
       "    <tr>\n",
       "      <td>14996</td>\n",
       "      <td>uid_757880</td>\n",
       "      <td>... This is a good point.</td>\n",
       "      <td>2014-04</td>\n",
       "      <td>0</td>\n",
       "      <td>Sounds like a pretty good overall summary of o...</td>\n",
       "      <td>6</td>\n",
       "      <td>6</td>\n",
       "      <td>hockey</td>\n",
       "      <td>em483</td>\n",
       "      <td>0</td>\n",
       "    </tr>\n",
       "    <tr>\n",
       "      <td>14997</td>\n",
       "      <td>uid_724706</td>\n",
       "      <td>Yep.</td>\n",
       "      <td>2015-09</td>\n",
       "      <td>0</td>\n",
       "      <td>I know the type you speak of. The \"die cis scu...</td>\n",
       "      <td>2</td>\n",
       "      <td>2</td>\n",
       "      <td>AskReddit</td>\n",
       "      <td>YoImAli</td>\n",
       "      <td>0</td>\n",
       "    </tr>\n",
       "    <tr>\n",
       "      <td>14998</td>\n",
       "      <td>uid_1006984</td>\n",
       "      <td>That's what the government WANTS you to believe!</td>\n",
       "      <td>2016-01</td>\n",
       "      <td>0</td>\n",
       "      <td>That there's A hidden cure for cancer but phar...</td>\n",
       "      <td>1</td>\n",
       "      <td>1</td>\n",
       "      <td>AskReddit</td>\n",
       "      <td>OhHiGCHQ</td>\n",
       "      <td>1</td>\n",
       "    </tr>\n",
       "    <tr>\n",
       "      <td>14999</td>\n",
       "      <td>uid_723514</td>\n",
       "      <td>because Windows 10 has the glorious start menu...</td>\n",
       "      <td>2015-08</td>\n",
       "      <td>0</td>\n",
       "      <td>Windows 8(x) had more polish on launch than 10...</td>\n",
       "      <td>12</td>\n",
       "      <td>12</td>\n",
       "      <td>Windows10</td>\n",
       "      <td>thedonutman</td>\n",
       "      <td>1</td>\n",
       "    </tr>\n",
       "  </tbody>\n",
       "</table>\n",
       "<p>15000 rows × 10 columns</p>\n",
       "</div>"
      ],
      "text/plain": [
       "                ID                                            comment  \\\n",
       "0       uid_590555  Well, let's be honest here, they don't actuall...   \n",
       "1       uid_671762  Well, I didn't need evidence to believe in com...   \n",
       "2       uid_519689              Who does an \"official promo\" in 360p?   \n",
       "3       uid_788362                           Grotto koth was the best   \n",
       "4       uid_299252                                   Neal's back baby   \n",
       "...            ...                                                ...   \n",
       "14995   uid_845344  Well with a name like El Cubano I'm surprised ...   \n",
       "14996   uid_757880                          ... This is a good point.   \n",
       "14997   uid_724706                                               Yep.   \n",
       "14998  uid_1006984   That's what the government WANTS you to believe!   \n",
       "14999   uid_723514  because Windows 10 has the glorious start menu...   \n",
       "\n",
       "          date  down                                     parent_comment  \\\n",
       "0      2015-04     0  They should shut the fuck up and let the commu...   \n",
       "1      2016-12    -1  You need evidence to kill people? I thought we...   \n",
       "2      2013-11     0                    2014 BMW S1000R: Official Promo   \n",
       "3      2015-09     0  Not really that memorable lol if you want memo...   \n",
       "4      2015-11     0                      James Neal hit on Zach Parise   \n",
       "...        ...   ...                                                ...   \n",
       "14995  2015-01     0  There's two things you don't do in Florida. - ...   \n",
       "14996  2014-04     0  Sounds like a pretty good overall summary of o...   \n",
       "14997  2015-09     0  I know the type you speak of. The \"die cis scu...   \n",
       "14998  2016-01     0  That there's A hidden cure for cancer but phar...   \n",
       "14999  2015-08     0  Windows 8(x) had more polish on launch than 10...   \n",
       "\n",
       "       score  top             topic            user  label  \n",
       "0          2    2       starcitizen  Combat_Wombatz      0  \n",
       "1          6   -1  EnoughCommieSpam        starkadd      1  \n",
       "2          3    3       motorcycles         phybere      0  \n",
       "3          2    2        hcfactions          m0xyMC      1  \n",
       "4         -5   -5            hockey       Somuch101      1  \n",
       "...      ...  ...               ...             ...    ...  \n",
       "14995     18   18            hockey     shutupisaac      0  \n",
       "14996      6    6            hockey           em483      0  \n",
       "14997      2    2         AskReddit         YoImAli      0  \n",
       "14998      1    1         AskReddit        OhHiGCHQ      1  \n",
       "14999     12   12         Windows10     thedonutman      1  \n",
       "\n",
       "[15000 rows x 10 columns]"
      ]
     },
     "execution_count": 7,
     "metadata": {},
     "output_type": "execute_result"
    }
   ],
   "source": [
    "data"
   ]
  },
  {
   "cell_type": "code",
   "execution_count": 8,
   "metadata": {},
   "outputs": [
    {
     "name": "stdout",
     "output_type": "stream",
     "text": [
      "ID                False\n",
      "comment           False\n",
      "date              False\n",
      "down              False\n",
      "parent_comment    False\n",
      "score             False\n",
      "top               False\n",
      "topic             False\n",
      "user              False\n",
      "label             False\n",
      "dtype: bool\n"
     ]
    }
   ],
   "source": [
    "print(data.isnull().any(axis = 0)) #no null data is present in the dataset"
   ]
  },
  {
   "cell_type": "code",
   "execution_count": 9,
   "metadata": {},
   "outputs": [],
   "source": [
    "# Relacing special symbols and digits in headline column\n",
    "# re stands for Regular Expression\n",
    "data['comment'] = data['comment'].apply(lambda s : re.sub('[^a-zA-Z]', ' ', s))"
   ]
  },
  {
   "cell_type": "code",
   "execution_count": 10,
   "metadata": {},
   "outputs": [
    {
     "data": {
      "text/html": [
       "<div>\n",
       "<style scoped>\n",
       "    .dataframe tbody tr th:only-of-type {\n",
       "        vertical-align: middle;\n",
       "    }\n",
       "\n",
       "    .dataframe tbody tr th {\n",
       "        vertical-align: top;\n",
       "    }\n",
       "\n",
       "    .dataframe thead th {\n",
       "        text-align: right;\n",
       "    }\n",
       "</style>\n",
       "<table border=\"1\" class=\"dataframe\">\n",
       "  <thead>\n",
       "    <tr style=\"text-align: right;\">\n",
       "      <th></th>\n",
       "      <th>ID</th>\n",
       "      <th>comment</th>\n",
       "      <th>date</th>\n",
       "      <th>down</th>\n",
       "      <th>parent_comment</th>\n",
       "      <th>score</th>\n",
       "      <th>top</th>\n",
       "      <th>topic</th>\n",
       "      <th>user</th>\n",
       "      <th>label</th>\n",
       "    </tr>\n",
       "  </thead>\n",
       "  <tbody>\n",
       "    <tr>\n",
       "      <td>0</td>\n",
       "      <td>uid_590555</td>\n",
       "      <td>Well  let s be honest here  they don t actuall...</td>\n",
       "      <td>2015-04</td>\n",
       "      <td>0</td>\n",
       "      <td>They should shut the fuck up and let the commu...</td>\n",
       "      <td>2</td>\n",
       "      <td>2</td>\n",
       "      <td>starcitizen</td>\n",
       "      <td>Combat_Wombatz</td>\n",
       "      <td>0</td>\n",
       "    </tr>\n",
       "    <tr>\n",
       "      <td>1</td>\n",
       "      <td>uid_671762</td>\n",
       "      <td>Well  I didn t need evidence to believe in com...</td>\n",
       "      <td>2016-12</td>\n",
       "      <td>-1</td>\n",
       "      <td>You need evidence to kill people? I thought we...</td>\n",
       "      <td>6</td>\n",
       "      <td>-1</td>\n",
       "      <td>EnoughCommieSpam</td>\n",
       "      <td>starkadd</td>\n",
       "      <td>1</td>\n",
       "    </tr>\n",
       "    <tr>\n",
       "      <td>2</td>\n",
       "      <td>uid_519689</td>\n",
       "      <td>Who does an  official promo  in    p</td>\n",
       "      <td>2013-11</td>\n",
       "      <td>0</td>\n",
       "      <td>2014 BMW S1000R: Official Promo</td>\n",
       "      <td>3</td>\n",
       "      <td>3</td>\n",
       "      <td>motorcycles</td>\n",
       "      <td>phybere</td>\n",
       "      <td>0</td>\n",
       "    </tr>\n",
       "    <tr>\n",
       "      <td>3</td>\n",
       "      <td>uid_788362</td>\n",
       "      <td>Grotto koth was the best</td>\n",
       "      <td>2015-09</td>\n",
       "      <td>0</td>\n",
       "      <td>Not really that memorable lol if you want memo...</td>\n",
       "      <td>2</td>\n",
       "      <td>2</td>\n",
       "      <td>hcfactions</td>\n",
       "      <td>m0xyMC</td>\n",
       "      <td>1</td>\n",
       "    </tr>\n",
       "    <tr>\n",
       "      <td>4</td>\n",
       "      <td>uid_299252</td>\n",
       "      <td>Neal s back baby</td>\n",
       "      <td>2015-11</td>\n",
       "      <td>0</td>\n",
       "      <td>James Neal hit on Zach Parise</td>\n",
       "      <td>-5</td>\n",
       "      <td>-5</td>\n",
       "      <td>hockey</td>\n",
       "      <td>Somuch101</td>\n",
       "      <td>1</td>\n",
       "    </tr>\n",
       "    <tr>\n",
       "      <td>...</td>\n",
       "      <td>...</td>\n",
       "      <td>...</td>\n",
       "      <td>...</td>\n",
       "      <td>...</td>\n",
       "      <td>...</td>\n",
       "      <td>...</td>\n",
       "      <td>...</td>\n",
       "      <td>...</td>\n",
       "      <td>...</td>\n",
       "      <td>...</td>\n",
       "    </tr>\n",
       "    <tr>\n",
       "      <td>14995</td>\n",
       "      <td>uid_845344</td>\n",
       "      <td>Well with a name like El Cubano I m surprised ...</td>\n",
       "      <td>2015-01</td>\n",
       "      <td>0</td>\n",
       "      <td>There's two things you don't do in Florida. - ...</td>\n",
       "      <td>18</td>\n",
       "      <td>18</td>\n",
       "      <td>hockey</td>\n",
       "      <td>shutupisaac</td>\n",
       "      <td>0</td>\n",
       "    </tr>\n",
       "    <tr>\n",
       "      <td>14996</td>\n",
       "      <td>uid_757880</td>\n",
       "      <td>This is a good point</td>\n",
       "      <td>2014-04</td>\n",
       "      <td>0</td>\n",
       "      <td>Sounds like a pretty good overall summary of o...</td>\n",
       "      <td>6</td>\n",
       "      <td>6</td>\n",
       "      <td>hockey</td>\n",
       "      <td>em483</td>\n",
       "      <td>0</td>\n",
       "    </tr>\n",
       "    <tr>\n",
       "      <td>14997</td>\n",
       "      <td>uid_724706</td>\n",
       "      <td>Yep</td>\n",
       "      <td>2015-09</td>\n",
       "      <td>0</td>\n",
       "      <td>I know the type you speak of. The \"die cis scu...</td>\n",
       "      <td>2</td>\n",
       "      <td>2</td>\n",
       "      <td>AskReddit</td>\n",
       "      <td>YoImAli</td>\n",
       "      <td>0</td>\n",
       "    </tr>\n",
       "    <tr>\n",
       "      <td>14998</td>\n",
       "      <td>uid_1006984</td>\n",
       "      <td>That s what the government WANTS you to believe</td>\n",
       "      <td>2016-01</td>\n",
       "      <td>0</td>\n",
       "      <td>That there's A hidden cure for cancer but phar...</td>\n",
       "      <td>1</td>\n",
       "      <td>1</td>\n",
       "      <td>AskReddit</td>\n",
       "      <td>OhHiGCHQ</td>\n",
       "      <td>1</td>\n",
       "    </tr>\n",
       "    <tr>\n",
       "      <td>14999</td>\n",
       "      <td>uid_723514</td>\n",
       "      <td>because Windows    has the glorious start menu...</td>\n",
       "      <td>2015-08</td>\n",
       "      <td>0</td>\n",
       "      <td>Windows 8(x) had more polish on launch than 10...</td>\n",
       "      <td>12</td>\n",
       "      <td>12</td>\n",
       "      <td>Windows10</td>\n",
       "      <td>thedonutman</td>\n",
       "      <td>1</td>\n",
       "    </tr>\n",
       "  </tbody>\n",
       "</table>\n",
       "<p>15000 rows × 10 columns</p>\n",
       "</div>"
      ],
      "text/plain": [
       "                ID                                            comment  \\\n",
       "0       uid_590555  Well  let s be honest here  they don t actuall...   \n",
       "1       uid_671762  Well  I didn t need evidence to believe in com...   \n",
       "2       uid_519689              Who does an  official promo  in    p    \n",
       "3       uid_788362                           Grotto koth was the best   \n",
       "4       uid_299252                                   Neal s back baby   \n",
       "...            ...                                                ...   \n",
       "14995   uid_845344  Well with a name like El Cubano I m surprised ...   \n",
       "14996   uid_757880                              This is a good point    \n",
       "14997   uid_724706                                               Yep    \n",
       "14998  uid_1006984   That s what the government WANTS you to believe    \n",
       "14999   uid_723514  because Windows    has the glorious start menu...   \n",
       "\n",
       "          date  down                                     parent_comment  \\\n",
       "0      2015-04     0  They should shut the fuck up and let the commu...   \n",
       "1      2016-12    -1  You need evidence to kill people? I thought we...   \n",
       "2      2013-11     0                    2014 BMW S1000R: Official Promo   \n",
       "3      2015-09     0  Not really that memorable lol if you want memo...   \n",
       "4      2015-11     0                      James Neal hit on Zach Parise   \n",
       "...        ...   ...                                                ...   \n",
       "14995  2015-01     0  There's two things you don't do in Florida. - ...   \n",
       "14996  2014-04     0  Sounds like a pretty good overall summary of o...   \n",
       "14997  2015-09     0  I know the type you speak of. The \"die cis scu...   \n",
       "14998  2016-01     0  That there's A hidden cure for cancer but phar...   \n",
       "14999  2015-08     0  Windows 8(x) had more polish on launch than 10...   \n",
       "\n",
       "       score  top             topic            user  label  \n",
       "0          2    2       starcitizen  Combat_Wombatz      0  \n",
       "1          6   -1  EnoughCommieSpam        starkadd      1  \n",
       "2          3    3       motorcycles         phybere      0  \n",
       "3          2    2        hcfactions          m0xyMC      1  \n",
       "4         -5   -5            hockey       Somuch101      1  \n",
       "...      ...  ...               ...             ...    ...  \n",
       "14995     18   18            hockey     shutupisaac      0  \n",
       "14996      6    6            hockey           em483      0  \n",
       "14997      2    2         AskReddit         YoImAli      0  \n",
       "14998      1    1         AskReddit        OhHiGCHQ      1  \n",
       "14999     12   12         Windows10     thedonutman      1  \n",
       "\n",
       "[15000 rows x 10 columns]"
      ]
     },
     "execution_count": 10,
     "metadata": {},
     "output_type": "execute_result"
    }
   ],
   "source": [
    "data"
   ]
  },
  {
   "cell_type": "code",
   "execution_count": 20,
   "metadata": {},
   "outputs": [],
   "source": [
    "# getting features and labels\n",
    "features = data['comment']\n",
    "labels = data['label']"
   ]
  },
  {
   "cell_type": "code",
   "execution_count": 13,
   "metadata": {},
   "outputs": [],
   "source": [
    "# Stemming our data\n",
    "ps = PorterStemmer()\n",
    "features = features.apply(lambda x: x.split())\n",
    "features = features.apply(lambda x : ' ' .join([ps.stem(word) for word in x]))"
   ]
  },
  {
   "cell_type": "code",
   "execution_count": 14,
   "metadata": {},
   "outputs": [],
   "source": [
    "# vectorizing the data with maximum of 5000 features\n",
    "from sklearn.feature_extraction.text import TfidfVectorizer\n",
    "tv = TfidfVectorizer(max_features = 5000)\n",
    "features = list(features)\n",
    "features = tv.fit_transform(features).toarray()"
   ]
  },
  {
   "cell_type": "code",
   "execution_count": 15,
   "metadata": {},
   "outputs": [],
   "source": [
    "# getting training and testing data\n",
    "features_train, features_test, labels_train, labels_test = train_test_split(features, labels, test_size = .05, random_state = 0)"
   ]
  },
  {
   "cell_type": "code",
   "execution_count": 16,
   "metadata": {},
   "outputs": [
    {
     "name": "stderr",
     "output_type": "stream",
     "text": [
      "/usr/local/anaconda3/lib/python3.7/site-packages/sklearn/linear_model/logistic.py:433: FutureWarning: Default solver will be changed to 'lbfgs' in 0.22. Specify a solver to silence this warning.\n",
      "  FutureWarning)\n"
     ]
    },
    {
     "name": "stdout",
     "output_type": "stream",
     "text": [
      "0.7547368421052632\n",
      "0.6653333333333333\n"
     ]
    }
   ],
   "source": [
    "# Logistic Regression\n",
    "lr = LogisticRegression()\n",
    "lr.fit(features_train, labels_train)\n",
    "print(lr.score(features_train, labels_train))  \n",
    "print(lr.score(features_test, labels_test))     "
   ]
  },
  {
   "cell_type": "code",
   "execution_count": 17,
   "metadata": {},
   "outputs": [
    {
     "name": "stdout",
     "output_type": "stream",
     "text": [
      "0.9715789473684211\n",
      "0.644\n"
     ]
    }
   ],
   "source": [
    "# Random Forest Classifier\n",
    "rfc = RandomForestClassifier(n_estimators = 10, random_state = 0)\n",
    "rfc.fit(features_train, labels_train)\n",
    "print(rfc.score(features_train, labels_train))  \n",
    "print(rfc.score(features_test, labels_test))    "
   ]
  },
  {
   "cell_type": "code",
   "execution_count": 24,
   "metadata": {},
   "outputs": [],
   "source": [
    "#Predicting using the test dataset\n",
    "data_set_for_submission = pd.read_csv('Dataset/Test.csv')"
   ]
  },
  {
   "cell_type": "code",
   "execution_count": 25,
   "metadata": {},
   "outputs": [],
   "source": [
    "submission_test_features =  data_set_for_submission['comment']"
   ]
  },
  {
   "cell_type": "code",
   "execution_count": 27,
   "metadata": {},
   "outputs": [],
   "source": [
    "features_test = list(submission_test_features)\n",
    "features_test = tv.fit_transform(features_test).toarray()"
   ]
  },
  {
   "cell_type": "code",
   "execution_count": 32,
   "metadata": {},
   "outputs": [],
   "source": [
    "final_prediction = rfc.predict(features_test) #numpy.ndarray for the prediction values on the test data"
   ]
  },
  {
   "cell_type": "code",
   "execution_count": 43,
   "metadata": {},
   "outputs": [
    {
     "name": "stdout",
     "output_type": "stream",
     "text": [
      "[1 1 1 ... 0 0 1]\n"
     ]
    }
   ],
   "source": [
    "print(final_prediction)\n",
    "\n",
    "df_submission = pd.DataFrame(data=final_prediction,columns=[\"label\"])"
   ]
  },
  {
   "cell_type": "code",
   "execution_count": 52,
   "metadata": {},
   "outputs": [
    {
     "data": {
      "text/plain": [
       "pandas.core.frame.DataFrame"
      ]
     },
     "execution_count": 52,
     "metadata": {},
     "output_type": "execute_result"
    }
   ],
   "source": [
    "df_submission.head() # \n",
    "\n",
    "type(df_submission)"
   ]
  },
  {
   "cell_type": "code",
   "execution_count": 53,
   "metadata": {},
   "outputs": [],
   "source": [
    "# Format predictions in DataFrame: prediction_df\n",
    "\n",
    "ID_test_dataset  = data_set_for_submission['ID']\n",
    "\n",
    "\n",
    "\n"
   ]
  },
  {
   "cell_type": "code",
   "execution_count": 55,
   "metadata": {},
   "outputs": [],
   "source": [
    "#merge predicted output \n",
    "prediction_submission_df = pd.merge(ID_test_dataset, df_submission, left_index=True, right_index=True)"
   ]
  },
  {
   "cell_type": "code",
   "execution_count": 56,
   "metadata": {},
   "outputs": [
    {
     "data": {
      "text/html": [
       "<div>\n",
       "<style scoped>\n",
       "    .dataframe tbody tr th:only-of-type {\n",
       "        vertical-align: middle;\n",
       "    }\n",
       "\n",
       "    .dataframe tbody tr th {\n",
       "        vertical-align: top;\n",
       "    }\n",
       "\n",
       "    .dataframe thead th {\n",
       "        text-align: right;\n",
       "    }\n",
       "</style>\n",
       "<table border=\"1\" class=\"dataframe\">\n",
       "  <thead>\n",
       "    <tr style=\"text-align: right;\">\n",
       "      <th></th>\n",
       "      <th>ID</th>\n",
       "      <th>label</th>\n",
       "    </tr>\n",
       "  </thead>\n",
       "  <tbody>\n",
       "    <tr>\n",
       "      <td>0</td>\n",
       "      <td>uid_764784</td>\n",
       "      <td>1</td>\n",
       "    </tr>\n",
       "    <tr>\n",
       "      <td>1</td>\n",
       "      <td>uid_67552</td>\n",
       "      <td>1</td>\n",
       "    </tr>\n",
       "    <tr>\n",
       "      <td>2</td>\n",
       "      <td>uid_240490</td>\n",
       "      <td>1</td>\n",
       "    </tr>\n",
       "    <tr>\n",
       "      <td>3</td>\n",
       "      <td>uid_56568</td>\n",
       "      <td>1</td>\n",
       "    </tr>\n",
       "    <tr>\n",
       "      <td>4</td>\n",
       "      <td>uid_875860</td>\n",
       "      <td>0</td>\n",
       "    </tr>\n",
       "  </tbody>\n",
       "</table>\n",
       "</div>"
      ],
      "text/plain": [
       "           ID  label\n",
       "0  uid_764784      1\n",
       "1   uid_67552      1\n",
       "2  uid_240490      1\n",
       "3   uid_56568      1\n",
       "4  uid_875860      0"
      ]
     },
     "execution_count": 56,
     "metadata": {},
     "output_type": "execute_result"
    }
   ],
   "source": [
    "prediction_submission_df.head()"
   ]
  },
  {
   "cell_type": "code",
   "execution_count": 59,
   "metadata": {},
   "outputs": [],
   "source": [
    "# Save prediction_df to csv\n",
    "prediction_submission_df.to_csv('predictions_submission_final.csv')"
   ]
  },
  {
   "cell_type": "code",
   "execution_count": 60,
   "metadata": {},
   "outputs": [],
   "source": [
    "prediction_submission_df.to_csv('predictions_submission_final_without_index.csv',index=False)"
   ]
  },
  {
   "cell_type": "code",
   "execution_count": null,
   "metadata": {},
   "outputs": [],
   "source": []
  }
 ],
 "metadata": {
  "kernelspec": {
   "display_name": "Python 3",
   "language": "python",
   "name": "python3"
  },
  "language_info": {
   "codemirror_mode": {
    "name": "ipython",
    "version": 3
   },
   "file_extension": ".py",
   "mimetype": "text/x-python",
   "name": "python",
   "nbconvert_exporter": "python",
   "pygments_lexer": "ipython3",
   "version": "3.7.4"
  }
 },
 "nbformat": 4,
 "nbformat_minor": 2
}
